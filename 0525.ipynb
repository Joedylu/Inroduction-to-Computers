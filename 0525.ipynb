{
  "nbformat": 4,
  "nbformat_minor": 0,
  "metadata": {
    "colab": {
      "name": "0525.ipynb",
      "provenance": [],
      "authorship_tag": "ABX9TyMiw8NjCoA2UUmHvHAftbhh",
      "include_colab_link": true
    },
    "kernelspec": {
      "name": "python3",
      "display_name": "Python 3"
    },
    "language_info": {
      "name": "python"
    }
  },
  "cells": [
    {
      "cell_type": "markdown",
      "metadata": {
        "id": "view-in-github",
        "colab_type": "text"
      },
      "source": [
        "<a href=\"https://colab.research.google.com/github/Joedylu/Inroduction-to-Computers/blob/main/0525.ipynb\" target=\"_parent\"><img src=\"https://colab.research.google.com/assets/colab-badge.svg\" alt=\"Open In Colab\"/></a>"
      ]
    },
    {
      "cell_type": "code",
      "execution_count": null,
      "metadata": {
        "colab": {
          "base_uri": "https://localhost:8080/"
        },
        "id": "DP6J4LdrkCBW",
        "outputId": "4c263481-5caf-442b-fedd-7ffcfb6b9cf3"
      },
      "outputs": [
        {
          "output_type": "stream",
          "name": "stdout",
          "text": [
            "test\n"
          ]
        }
      ],
      "source": [
        "print('test')"
      ]
    },
    {
      "cell_type": "code",
      "source": [
        "sum = 0\n",
        "test = int(input('請輸入一個正整數:'))\n",
        "for n in range(1, test+1):\n",
        "    sum = sum+n\n",
        "print('1到',test,'的整數和為',sum)"
      ],
      "metadata": {
        "colab": {
          "base_uri": "https://localhost:8080/"
        },
        "id": "qX-EX4lwkNhJ",
        "outputId": "af687014-f2d1-490a-c00e-f8a9f2583565"
      },
      "execution_count": null,
      "outputs": [
        {
          "output_type": "stream",
          "name": "stdout",
          "text": [
            "請輸入一個正整數:50\n",
            "1到 50 的整數和為 1275\n"
          ]
        }
      ]
    },
    {
      "cell_type": "code",
      "source": [
        "sum = 0\n",
        "test = int(input('請輸入一個正整數:'))\n",
        "for m in range(1, test+1):\n",
        "    sum = sum+m\n",
        "    print('1到',str(m),'的整數和為',sum)"
      ],
      "metadata": {
        "colab": {
          "base_uri": "https://localhost:8080/"
        },
        "id": "4qngyJEclLNv",
        "outputId": "dcc3d057-b4d6-4261-886a-86ebac1aa9e9"
      },
      "execution_count": null,
      "outputs": [
        {
          "output_type": "stream",
          "name": "stdout",
          "text": [
            "請輸入一個正整數:50\n",
            "1到 1 的整數和為 1\n",
            "1到 2 的整數和為 3\n",
            "1到 3 的整數和為 6\n",
            "1到 4 的整數和為 10\n",
            "1到 5 的整數和為 15\n",
            "1到 6 的整數和為 21\n",
            "1到 7 的整數和為 28\n",
            "1到 8 的整數和為 36\n",
            "1到 9 的整數和為 45\n",
            "1到 10 的整數和為 55\n",
            "1到 11 的整數和為 66\n",
            "1到 12 的整數和為 78\n",
            "1到 13 的整數和為 91\n",
            "1到 14 的整數和為 105\n",
            "1到 15 的整數和為 120\n",
            "1到 16 的整數和為 136\n",
            "1到 17 的整數和為 153\n",
            "1到 18 的整數和為 171\n",
            "1到 19 的整數和為 190\n",
            "1到 20 的整數和為 210\n",
            "1到 21 的整數和為 231\n",
            "1到 22 的整數和為 253\n",
            "1到 23 的整數和為 276\n",
            "1到 24 的整數和為 300\n",
            "1到 25 的整數和為 325\n",
            "1到 26 的整數和為 351\n",
            "1到 27 的整數和為 378\n",
            "1到 28 的整數和為 406\n",
            "1到 29 的整數和為 435\n",
            "1到 30 的整數和為 465\n",
            "1到 31 的整數和為 496\n",
            "1到 32 的整數和為 528\n",
            "1到 33 的整數和為 561\n",
            "1到 34 的整數和為 595\n",
            "1到 35 的整數和為 630\n",
            "1到 36 的整數和為 666\n",
            "1到 37 的整數和為 703\n",
            "1到 38 的整數和為 741\n",
            "1到 39 的整數和為 780\n",
            "1到 40 的整數和為 820\n",
            "1到 41 的整數和為 861\n",
            "1到 42 的整數和為 903\n",
            "1到 43 的整數和為 946\n",
            "1到 44 的整數和為 990\n",
            "1到 45 的整數和為 1035\n",
            "1到 46 的整數和為 1081\n",
            "1到 47 的整數和為 1128\n",
            "1到 48 的整數和為 1176\n",
            "1到 49 的整數和為 1225\n",
            "1到 50 的整數和為 1275\n"
          ]
        }
      ]
    },
    {
      "cell_type": "code",
      "source": [
        "for j in range(1,5):\n",
        "    print(j)\n",
        "    for i in range(1,3):\n",
        "        k = i*j\n",
        "        print(j,'*',i,'=',k)"
      ],
      "metadata": {
        "colab": {
          "base_uri": "https://localhost:8080/"
        },
        "id": "d-SN46CEl8HL",
        "outputId": "8c0fc15a-a883-421b-d189-a6a9fa5fee43"
      },
      "execution_count": null,
      "outputs": [
        {
          "output_type": "stream",
          "name": "stdout",
          "text": [
            "1\n",
            "1 * 1 = 1\n",
            "1 * 2 = 2\n",
            "2\n",
            "2 * 1 = 2\n",
            "2 * 2 = 4\n",
            "3\n",
            "3 * 1 = 3\n",
            "3 * 2 = 6\n",
            "4\n",
            "4 * 1 = 4\n",
            "4 * 2 = 8\n"
          ]
        }
      ]
    },
    {
      "cell_type": "code",
      "source": [
        "for j in range(1,6):\n",
        "    print(j)\n",
        "    for i in range(1,3):\n",
        "        k = i*j\n",
        "        print(j,'*',i,'=',k)"
      ],
      "metadata": {
        "colab": {
          "base_uri": "https://localhost:8080/"
        },
        "id": "XQm4gvqIoQFL",
        "outputId": "a8de3840-416d-48c4-e3fc-28fc4f2f980b"
      },
      "execution_count": null,
      "outputs": [
        {
          "output_type": "stream",
          "name": "stdout",
          "text": [
            "1\n",
            "1 * 1 = 1\n",
            "1 * 2 = 2\n",
            "2\n",
            "2 * 1 = 2\n",
            "2 * 2 = 4\n",
            "3\n",
            "3 * 1 = 3\n",
            "3 * 2 = 6\n",
            "4\n",
            "4 * 1 = 4\n",
            "4 * 2 = 8\n",
            "5\n",
            "5 * 1 = 5\n",
            "5 * 2 = 10\n"
          ]
        }
      ]
    },
    {
      "cell_type": "code",
      "source": [
        "for i in range(1,5):\n",
        "    if(i==4):\n",
        "        break\n",
        "    print(i,end = ' ')"
      ],
      "metadata": {
        "colab": {
          "base_uri": "https://localhost:8080/"
        },
        "id": "MMwerklVoWcr",
        "outputId": "36cae55e-cbdc-4471-d072-afc55505dfa5"
      },
      "execution_count": null,
      "outputs": [
        {
          "output_type": "stream",
          "name": "stdout",
          "text": [
            "1 2 3 "
          ]
        }
      ]
    },
    {
      "cell_type": "code",
      "source": [
        "for i in range(1,5):\n",
        "    if(i==4):\n",
        "        continue\n",
        "    print(i,end = ' ')"
      ],
      "metadata": {
        "colab": {
          "base_uri": "https://localhost:8080/"
        },
        "id": "pIv2pFBCpb81",
        "outputId": "eb93db5f-589e-4caa-b9af-eaf4a4b64f2a"
      },
      "execution_count": null,
      "outputs": [
        {
          "output_type": "stream",
          "name": "stdout",
          "text": [
            "1 2 3 "
          ]
        }
      ]
    },
    {
      "cell_type": "code",
      "source": [
        "count = 0\n",
        "for string in 'hello!':\n",
        "    count+=1\n",
        "    if string == 'o':\n",
        "        break\n",
        "    print(string)\n",
        "print('迴圈結束')\n",
        "print('迴圈執行了 %d 次' %count)"
      ],
      "metadata": {
        "colab": {
          "base_uri": "https://localhost:8080/"
        },
        "id": "tUX4j40kqgLs",
        "outputId": "60e09e71-0977-4b57-f7bf-aa25be813f83"
      },
      "execution_count": null,
      "outputs": [
        {
          "output_type": "stream",
          "name": "stdout",
          "text": [
            "h\n",
            "e\n",
            "l\n",
            "l\n",
            "迴圈結束\n",
            "迴圈執行了 5 次\n"
          ]
        }
      ]
    },
    {
      "cell_type": "code",
      "source": [
        "count = 0\n",
        "for string in '測試看看！':\n",
        "    count+=1\n",
        "    if string == '看':\n",
        "        break\n",
        "    print(string)\n",
        "print('迴圈結束')\n",
        "print('迴圈執行了 %d 次' %count)"
      ],
      "metadata": {
        "colab": {
          "base_uri": "https://localhost:8080/"
        },
        "id": "3NKWDsxrrDJr",
        "outputId": "69554584-e783-43be-903c-5e1615dd5a26"
      },
      "execution_count": null,
      "outputs": [
        {
          "output_type": "stream",
          "name": "stdout",
          "text": [
            "測\n",
            "試\n",
            "迴圈結束\n",
            "迴圈執行了 3 次\n"
          ]
        }
      ]
    },
    {
      "cell_type": "code",
      "source": [
        "for m in range(2,10):\n",
        "    for n in range(1,10):\n",
        "        l = m*n\n",
        "        print(m,'*',n,'=',l)"
      ],
      "metadata": {
        "colab": {
          "base_uri": "https://localhost:8080/"
        },
        "id": "r2shDvZqsE7C",
        "outputId": "413fd998-c431-4a02-a106-991b17545690"
      },
      "execution_count": null,
      "outputs": [
        {
          "output_type": "stream",
          "name": "stdout",
          "text": [
            "2 * 1 = 2\n",
            "2 * 2 = 4\n",
            "2 * 3 = 6\n",
            "2 * 4 = 8\n",
            "2 * 5 = 10\n",
            "2 * 6 = 12\n",
            "2 * 7 = 14\n",
            "2 * 8 = 16\n",
            "2 * 9 = 18\n",
            "3 * 1 = 3\n",
            "3 * 2 = 6\n",
            "3 * 3 = 9\n",
            "3 * 4 = 12\n",
            "3 * 5 = 15\n",
            "3 * 6 = 18\n",
            "3 * 7 = 21\n",
            "3 * 8 = 24\n",
            "3 * 9 = 27\n",
            "4 * 1 = 4\n",
            "4 * 2 = 8\n",
            "4 * 3 = 12\n",
            "4 * 4 = 16\n",
            "4 * 5 = 20\n",
            "4 * 6 = 24\n",
            "4 * 7 = 28\n",
            "4 * 8 = 32\n",
            "4 * 9 = 36\n",
            "5 * 1 = 5\n",
            "5 * 2 = 10\n",
            "5 * 3 = 15\n",
            "5 * 4 = 20\n",
            "5 * 5 = 25\n",
            "5 * 6 = 30\n",
            "5 * 7 = 35\n",
            "5 * 8 = 40\n",
            "5 * 9 = 45\n",
            "6 * 1 = 6\n",
            "6 * 2 = 12\n",
            "6 * 3 = 18\n",
            "6 * 4 = 24\n",
            "6 * 5 = 30\n",
            "6 * 6 = 36\n",
            "6 * 7 = 42\n",
            "6 * 8 = 48\n",
            "6 * 9 = 54\n",
            "7 * 1 = 7\n",
            "7 * 2 = 14\n",
            "7 * 3 = 21\n",
            "7 * 4 = 28\n",
            "7 * 5 = 35\n",
            "7 * 6 = 42\n",
            "7 * 7 = 49\n",
            "7 * 8 = 56\n",
            "7 * 9 = 63\n",
            "8 * 1 = 8\n",
            "8 * 2 = 16\n",
            "8 * 3 = 24\n",
            "8 * 4 = 32\n",
            "8 * 5 = 40\n",
            "8 * 6 = 48\n",
            "8 * 7 = 56\n",
            "8 * 8 = 64\n",
            "8 * 9 = 72\n",
            "9 * 1 = 9\n",
            "9 * 2 = 18\n",
            "9 * 3 = 27\n",
            "9 * 4 = 36\n",
            "9 * 5 = 45\n",
            "9 * 6 = 54\n",
            "9 * 7 = 63\n",
            "9 * 8 = 72\n",
            "9 * 9 = 81\n"
          ]
        }
      ]
    },
    {
      "cell_type": "code",
      "source": [
        "a = int(input('請輸入 a 的值：'))\n",
        "b = int(input('請輸入 b 的值：'))\n",
        "c=(a+1)*(b+1)\n",
        "for i in range(1,c):\n",
        "    if(i%a==0 and i%b==0):\n",
        "        break \n",
        "print('%d 和 %d 的最小公倍數=%d' % (a,b,i))"
      ],
      "metadata": {
        "id": "b6rpB3kD0xJl",
        "colab": {
          "base_uri": "https://localhost:8080/"
        },
        "outputId": "9bb8d175-9888-4081-d46a-972d88911b71"
      },
      "execution_count": 3,
      "outputs": [
        {
          "output_type": "stream",
          "name": "stdout",
          "text": [
            "請輸入 a 的值：4\n",
            "請輸入 b 的值：6\n",
            "4 和 6 的最小公倍數=12\n"
          ]
        }
      ]
    },
    {
      "cell_type": "code",
      "source": [
        "n = int(input('請輸入正整數：'))\n",
        "for m in range(1,n+1):\n",
        "    if m % 5 ==0:\n",
        "        continue\n",
        "    print(m,end=' ')"
      ],
      "metadata": {
        "id": "65gQDwO84-qT",
        "colab": {
          "base_uri": "https://localhost:8080/"
        },
        "outputId": "a8661f00-be10-4647-d1b2-cc36e3e2f080"
      },
      "execution_count": 4,
      "outputs": [
        {
          "output_type": "stream",
          "name": "stdout",
          "text": [
            "請輸入正整數：12\n",
            "1 2 3 4 6 7 8 9 11 12 "
          ]
        }
      ]
    }
  ]
}