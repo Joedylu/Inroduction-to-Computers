{
  "nbformat": 4,
  "nbformat_minor": 0,
  "metadata": {
    "colab": {
      "name": "0511.ipynb",
      "provenance": [],
      "authorship_tag": "ABX9TyOBz251y8g9kh6Z19sXnXCY",
      "include_colab_link": true
    },
    "kernelspec": {
      "name": "python3",
      "display_name": "Python 3"
    },
    "language_info": {
      "name": "python"
    }
  },
  "cells": [
    {
      "cell_type": "markdown",
      "metadata": {
        "id": "view-in-github",
        "colab_type": "text"
      },
      "source": [
        "<a href=\"https://colab.research.google.com/github/Joedylu/Inroduction-to-Computers/blob/main/0511.ipynb\" target=\"_parent\"><img src=\"https://colab.research.google.com/assets/colab-badge.svg\" alt=\"Open In Colab\"/></a>"
      ]
    },
    {
      "cell_type": "code",
      "execution_count": 1,
      "metadata": {
        "colab": {
          "base_uri": "https://localhost:8080/"
        },
        "id": "mrIXgM3S3TPd",
        "outputId": "9927169a-fa06-4218-c5e1-c1be145501b5"
      },
      "outputs": [
        {
          "output_type": "stream",
          "name": "stdout",
          "text": [
            "test\n"
          ]
        }
      ],
      "source": [
        "print(\"test\")"
      ]
    },
    {
      "cell_type": "code",
      "source": [
        "temp = float(input(\"請輸入你的體溫\"))\n",
        "if temp >= 37.5:\n",
        "    print('體溫過高!')\n",
        "elif temp >= 37 and temp < 37.4:\n",
        "    print('體溫略高!')\n",
        "elif temp >= 34 and temp <= 36.9:\n",
        "    print('體溫正常!')\n",
        "else:\n",
        "    print('體溫異常，請重新量測!')"
      ],
      "metadata": {
        "colab": {
          "base_uri": "https://localhost:8080/"
        },
        "id": "aRGW6QYR4rC8",
        "outputId": "0deeeb82-cd4a-4ee9-8794-3a1e9d33917f"
      },
      "execution_count": 3,
      "outputs": [
        {
          "output_type": "stream",
          "name": "stdout",
          "text": [
            "請輸入你的體溫37.5\n",
            "體溫過高!\n"
          ]
        }
      ]
    },
    {
      "cell_type": "code",
      "source": [
        "money = int(input(\"請輸入購物金額：\"))\n",
        "if (money >= 10000):\n",
        "    if(money >= 100000):\n",
        "      print('八折',money*0.8,end='元\\n')\n",
        "    elif(money >= 50000):\n",
        "      print('八五折',money*0.85,end='元\\n')\n",
        "    elif(money >= 30000):\n",
        "      print('九折',money*0.9,end='元\\n')\n",
        "    else:\n",
        "      print('九五折',money*0.95,end='元\\n')\n",
        "else:\n",
        "    print('沒打折',money,end= '元\\n')"
      ],
      "metadata": {
        "colab": {
          "base_uri": "https://localhost:8080/"
        },
        "id": "aB829bWx62E-",
        "outputId": "b9f285d8-6cec-4ff7-fdc0-d96eb929c6b0"
      },
      "execution_count": 11,
      "outputs": [
        {
          "output_type": "stream",
          "name": "stdout",
          "text": [
            "請輸入購物金額：50000\n",
            "八五折 42500.0元\n"
          ]
        }
      ]
    },
    {
      "cell_type": "code",
      "source": [
        "month =int(input(\"請輸入月份\"))\n",
        "if(month >=1 and month <=12):\n",
        "    if(month >= 3 and month <= 5):\n",
        "      print(month,'月是春天！')\n",
        "    elif(month >= 6 and month <= 8):\n",
        "      print(month,'月是夏天！')\n",
        "    elif(month >= 9 and month <= 11):\n",
        "      print(month,'月是秋天！')\n",
        "    else:\n",
        "      print(month,'月是冬天！')\n",
        "else:\n",
        "    print('月份不在範圍內！')"
      ],
      "metadata": {
        "colab": {
          "base_uri": "https://localhost:8080/"
        },
        "id": "HKrOgCJf-o3Y",
        "outputId": "ee3b2f0d-b6d5-49d9-ff8b-135ec267c175"
      },
      "execution_count": 44,
      "outputs": [
        {
          "output_type": "stream",
          "name": "stdout",
          "text": [
            "請輸入月份7\n",
            "7 月是夏天！\n"
          ]
        }
      ]
    },
    {
      "cell_type": "code",
      "source": [
        "score = int(input('請輸入成績'))\n",
        "if(score >= 90):\n",
        "    print('A')\n",
        "elif(score >= 80):\n",
        "    print('B')\n",
        "elif(score >= 70):\n",
        "    print('C')\n",
        "elif(score >= 60):\n",
        "    print('D')\n",
        "else: \n",
        "    print('E')"
      ],
      "metadata": {
        "colab": {
          "base_uri": "https://localhost:8080/"
        },
        "id": "-eGD4fum-t5P",
        "outputId": "257bd722-74d5-4701-e446-675b230e4d3c"
      },
      "execution_count": 37,
      "outputs": [
        {
          "output_type": "stream",
          "name": "stdout",
          "text": [
            "請輸入成績100\n",
            "A\n"
          ]
        }
      ]
    },
    {
      "cell_type": "code",
      "source": [
        "tax = int(input(\"請輸入今年收入淨額：\"))\n",
        "if(tax >= 2000000):\n",
        "    print('付稅金額：',tax*0.3,'元\\n')\n",
        "elif(tax >=1000000):\n",
        "    print('付稅金額：',tax*0.21,'元\\n')\n",
        "elif(tax >=600000):\n",
        "    print('付稅金額：',tax*0.13,'元\\n')\n",
        "elif(tax >=300000):\n",
        "    print('付稅金額：',tax*0.06,'元\\n')\n",
        "else:\n",
        "    print('付稅金額：',tax*0,'元\\n')"
      ],
      "metadata": {
        "colab": {
          "base_uri": "https://localhost:8080/"
        },
        "id": "QGznI1jP-uFd",
        "outputId": "c0c69b86-53a4-484d-fc76-94d3f951f2f3"
      },
      "execution_count": 31,
      "outputs": [
        {
          "output_type": "stream",
          "name": "stdout",
          "text": [
            "請輸入今年收入淨額：100000\n",
            "付稅金額： 0 元\n",
            "\n"
          ]
        }
      ]
    }
  ]
}